{
 "cells": [
  {
   "cell_type": "code",
   "execution_count": null,
   "metadata": {},
   "outputs": [],
   "source": [
    "class Stats1:\n",
    "\n",
    "    def __init__(self):\n",
    "        self.clear()\n",
    "\n",
    "    def clear(self):\n",
    "        self.values = []\n",
    "\n",
    "    def add_item(self, value):\n",
    "        self.values.append(value)\n",
    "\n",
    "    def get_average(self):\n",
    "        n = len(self.values)\n",
    "        if n < 1: return None\n",
    "\n",
    "        sum = 0.0\n",
    "        for value in self.values:\n",
    "            sum += value\n",
    "        return sum / float(n)"
   ]
  },
  {
   "cell_type": "code",
   "execution_count": null,
   "metadata": {},
   "outputs": [],
   "source": [
    "s1 = Stats1()\n",
    "s1.add_item(10.0)\n",
    "s1.add_item(5.0)\n",
    "s1.get_average()"
   ]
  },
  {
   "cell_type": "code",
   "execution_count": null,
   "metadata": {},
   "outputs": [],
   "source": [
    "class Stats2:\n",
    "    def __init__(self):\n",
    "        self.clear()\n",
    "\n",
    "    def clear(self):\n",
    "        self.n = 0\n",
    "        self.average = None\n",
    "\n",
    "    def add_item(self, value):\n",
    "        self.n += 1\n",
    "        if self.n == 1:\n",
    "            self.average = value\n",
    "        else:\n",
    "            self.average += (value - self.average) / float(self.n)\n",
    "\n",
    "    def get_average(self):\n",
    "        return self.average"
   ]
  },
  {
   "cell_type": "code",
   "execution_count": null,
   "metadata": {},
   "outputs": [],
   "source": [
    "s2 = Stats2()\n",
    "s2.add_item(10.0)\n",
    "s2.add_item(5.0)\n",
    "s2.get_average()"
   ]
  },
  {
   "cell_type": "code",
   "execution_count": null,
   "metadata": {},
   "outputs": [],
   "source": [
    "import sys\n",
    "import time\n",
    "import numpy as np\n",
    "import pandas as pd\n",
    "from numbers import Number\n",
    "from collections import Set, Mapping, deque\n",
    "import matplotlib.pyplot as plt"
   ]
  },
  {
   "cell_type": "code",
   "execution_count": null,
   "metadata": {},
   "outputs": [],
   "source": [
    "%%javascript\n",
    "IPython.OutputArea.auto_scroll_threshold = 9999;"
   ]
  },
  {
   "cell_type": "code",
   "execution_count": null,
   "metadata": {},
   "outputs": [],
   "source": [
    "SIZE_S = 16\n",
    "SIZE_M = 18\n",
    "SIZE_L = 22\n",
    "\n",
    "plt.rc('font', size=SIZE_S)         # controls default text sizes\n",
    "plt.rc('axes', titlesize=SIZE_S)    # fontsize of the axes title\n",
    "plt.rc('axes', labelsize=SIZE_M)    # fontsize of the x and y labels\n",
    "plt.rc('xtick', labelsize=SIZE_S)   # fontsize of the tick labels\n",
    "plt.rc('ytick', labelsize=SIZE_S)   # fontsize of the tick labels\n",
    "plt.rc('legend', fontsize=SIZE_S)   # legend fontsize\n",
    "plt.rc('figure', titlesize=SIZE_L)  # fontsize of the figure title"
   ]
  },
  {
   "cell_type": "code",
   "execution_count": null,
   "metadata": {},
   "outputs": [],
   "source": [
    "def get_size(obj_0):\n",
    "    zero_depth_bases = (str, bytes, Number, range, bytearray)\n",
    "    iteritems = 'items'\n",
    "    def inner(obj, _seen_ids = set()):\n",
    "        obj_id = id(obj)\n",
    "        if obj_id in _seen_ids:\n",
    "            return 0\n",
    "        _seen_ids.add(obj_id)\n",
    "        size = sys.getsizeof(obj)\n",
    "        if isinstance(obj, zero_depth_bases):\n",
    "            pass\n",
    "        elif isinstance(obj, (tuple, list, Set, deque)):\n",
    "            size += sum(inner(i) for i in obj)\n",
    "        elif isinstance(obj, Mapping) or hasattr(obj, iteritems):\n",
    "            size += sum(inner(k) + inner(v) for k, v in getattr(obj, iteritems)())\n",
    "        if hasattr(obj, '__dict__'):\n",
    "            size += inner(vars(obj))\n",
    "        if hasattr(obj, '__slots__'):\n",
    "            size += sum(inner(getattr(obj, s)) for s in obj.__slots__ if hasattr(obj, s))\n",
    "        return size\n",
    "    return inner(obj_0)"
   ]
  },
  {
   "cell_type": "code",
   "execution_count": null,
   "metadata": {},
   "outputs": [],
   "source": [
    "def use_case_1_1(stats, series):\n",
    "    # as many get_item as get_average (ratio of 1:1)\n",
    "    for v in series:\n",
    "        stats.add_item(v)\n",
    "        avg = stats.get_average()\n",
    "    return avg"
   ]
  },
  {
   "cell_type": "code",
   "execution_count": null,
   "metadata": {},
   "outputs": [],
   "source": [
    "series1 = np.random.random(50)\n",
    "series1"
   ]
  },
  {
   "cell_type": "code",
   "execution_count": null,
   "metadata": {},
   "outputs": [],
   "source": [
    "s1 = Stats1()\n",
    "print(get_size(s1), 'B') \n",
    "t0 = time.time()\n",
    "avg = use_case_1_1(s1, series1)\n",
    "print(avg)\n",
    "elapsed_time = time.time() - t0\n",
    "size = get_size(s1)\n",
    "print('Stats1', elapsed_time * 1000.0, 'ms', size, 'B')\n",
    "s1.clear()\n",
    "print(get_size(s1), 'B')"
   ]
  },
  {
   "cell_type": "code",
   "execution_count": null,
   "metadata": {},
   "outputs": [],
   "source": [
    "s2 = Stats2()\n",
    "print(get_size(s2), 'B') \n",
    "t0 = time.time()\n",
    "avg = use_case_1_1(s2, series1)\n",
    "print(avg)\n",
    "elapsed_time = time.time() - t0\n",
    "size = get_size(s2)\n",
    "print('Stats1', elapsed_time * 1000.0, 'ms', size, 'B')\n",
    "s1.clear()\n",
    "print(get_size(s2), 'B')"
   ]
  },
  {
   "cell_type": "code",
   "execution_count": null,
   "metadata": {},
   "outputs": [],
   "source": [
    "def use_case_n_1(stats, series):\n",
    "    # add_item predominates (ratio of len(series):1)\n",
    "    for v in series:\n",
    "        stats.add_item(v)\n",
    "    avg = stats.get_average()\n",
    "    return avg"
   ]
  },
  {
   "cell_type": "code",
   "execution_count": null,
   "metadata": {},
   "outputs": [],
   "source": [
    "def use_case_1_m(stats, series, m=5):\n",
    "    # get_average predominates (ratio of m:1)\n",
    "    for v in series:\n",
    "        stats.add_item(v)\n",
    "    for i in range(len(series) * m):\n",
    "        avg = stats.get_average()\n",
    "    return avg"
   ]
  },
  {
   "cell_type": "code",
   "execution_count": null,
   "metadata": {},
   "outputs": [],
   "source": [
    "class Stats3:\n",
    "    def __init__(self):\n",
    "        self.clear()\n",
    "\n",
    "    def clear(self):\n",
    "        self.n = 0\n",
    "        self.values = []\n",
    "        self.average = 0.0\n",
    "        self.average_is_up_to_date = True\n",
    "\n",
    "    def add_item(self, value):\n",
    "        self.values.append(value)\n",
    "        self.average_is_up_to_date = False\n",
    "\n",
    "    def get_average(self):\n",
    "        if not self.average_is_up_to_date:\n",
    "            inc_n = len(self.values)\n",
    "            self.n += inc_n\n",
    "            for i in range(inc_n):\n",
    "                self.average += (self.values[i] - self.average) / float(self.n - inc_n + i + 1)\n",
    "            self.average_is_up_to_date = True\n",
    "            self.values = []\n",
    "        return self.average\n"
   ]
  },
  {
   "cell_type": "code",
   "execution_count": null,
   "metadata": {},
   "outputs": [],
   "source": [
    "s3 = Stats3()\n",
    "s3.add_item(10.0)\n",
    "s3.add_item(5.0)\n",
    "s3.get_average()"
   ]
  },
  {
   "cell_type": "code",
   "execution_count": null,
   "metadata": {},
   "outputs": [],
   "source": [
    "class Stats4:\n",
    "    def __init__(self):\n",
    "        self.clear()\n",
    "\n",
    "    def clear(self):\n",
    "        self.values = []\n",
    "        self.average = None\n",
    "        self.average_is_up_to_date = True\n",
    "\n",
    "    def add_item(self, value):\n",
    "        self.values.append(value)\n",
    "        self.average_is_up_to_date = False\n",
    "\n",
    "    def get_average(self):\n",
    "        if not self.average_is_up_to_date:\n",
    "            n = len(self.values)\n",
    "            sum = 0.0\n",
    "            for value in self.values:\n",
    "                sum += value\n",
    "            self.average = sum / float(n)\n",
    "            self.average_is_up_to_date = True\n",
    "        return self.average"
   ]
  },
  {
   "cell_type": "code",
   "execution_count": null,
   "metadata": {},
   "outputs": [],
   "source": [
    "s4 = Stats4()\n",
    "s4.add_item(10.0)\n",
    "s4.add_item(5.0)\n",
    "s4.get_average()"
   ]
  },
  {
   "cell_type": "code",
   "execution_count": null,
   "metadata": {},
   "outputs": [],
   "source": [
    "def sim(n_runs=10):\n",
    "\n",
    "    stats = {\n",
    "        's1': Stats1(),\n",
    "        's2': Stats2(),\n",
    "        's3': Stats3(),\n",
    "        's4': Stats4()\n",
    "    }\n",
    "\n",
    "    use_cases = ['n_1', '1_1', '1_2', '1_20']\n",
    "    times = {}\n",
    "    sizes = {}\n",
    "    \n",
    "    results_df = pd.DataFrame(columns=['Run', 'Use Case', 'Stats', 'Time (ms)', 'Size (B)', 'Avg'], index=range(len(stats)*len(use_cases*n_runs)))\n",
    "    i_row = 0\n",
    "\n",
    "    for i_run in range(n_runs):\n",
    "        series1 = np.random.random(500)\n",
    "        \n",
    "        for use_case in use_cases:            \n",
    "            for s_name in sorted(stats.keys()):\n",
    "                s_obj = stats[s_name]\n",
    "                if use_case != '1_1' and use_case.startswith('1_'):\n",
    "                    func_name = 'use_case_1_m'\n",
    "                    m = int(use_case.split('_')[1])\n",
    "                    t0 = time.time()\n",
    "                    avg = globals()[func_name](s_obj, series1, m=m)\n",
    "                else:\n",
    "                    func_name = 'use_case_' + use_case\n",
    "                    t0 = time.time()\n",
    "                    avg = globals()[func_name](s_obj, series1)\n",
    "                elapsed_time = time.time() - t0\n",
    "                size = get_size(s_obj)\n",
    "                s_obj.clear()\n",
    "                row = (i_run, use_case, s_name, elapsed_time * 1000.0, size, avg)\n",
    "                results_df.iloc[i_row] = row\n",
    "                i_row += 1\n",
    "                \n",
    "    results_df = results_df.apply(pd.to_numeric, errors='ignore')\n",
    "    return results_df"
   ]
  },
  {
   "cell_type": "code",
   "execution_count": null,
   "metadata": {},
   "outputs": [],
   "source": [
    "r = sim()\n",
    "r.style.format({'Time (ms)': '{:,.2f}'.format, 'Size (B)': '{:,.0f}'.format})"
   ]
  },
  {
   "cell_type": "code",
   "execution_count": null,
   "metadata": {},
   "outputs": [],
   "source": [
    "times = r.groupby(['Use Case', 'Stats'])['Time (ms)'].mean()\n",
    "sizes = r.groupby(['Use Case', 'Stats'])['Size (B)'].mean()\n",
    "df = pd.DataFrame(columns=['Time (ms)', 'Size (B)'])\n",
    "df['Time (ms)'] = times\n",
    "df['Size (B)'] = sizes\n",
    "df = df.reset_index()\n",
    "df.style.format({'Time (ms)': '{:,.2f}'.format, 'Size (B)': '{:,.0f}'.format})"
   ]
  },
  {
   "cell_type": "code",
   "execution_count": null,
   "metadata": {},
   "outputs": [],
   "source": [
    "colors = ['#af78aa', '#e55965', '#ecc96c', '#e6966f']\n",
    "for metric in ['Time (ms)', 'Size (B)']:\n",
    "    for use_case, group in df.groupby('Use Case'):\n",
    "        title = metric.split()[0] + ' — ' + 'Use Case ' + use_case\n",
    "        group.plot.barh(x='Stats', y=metric, title=title, color=colors, legend=False, figsize=(8,4))\n",
    "        plt.xscale('log')\n",
    "        plt.xlabel(metric)"
   ]
  },
  {
   "cell_type": "code",
   "execution_count": null,
   "metadata": {},
   "outputs": [],
   "source": []
  }
 ],
 "metadata": {
  "kernelspec": {
   "display_name": "Python 3",
   "language": "python",
   "name": "python3"
  },
  "language_info": {
   "codemirror_mode": {
    "name": "ipython",
    "version": 3
   },
   "file_extension": ".py",
   "mimetype": "text/x-python",
   "name": "python",
   "nbconvert_exporter": "python",
   "pygments_lexer": "ipython3",
   "version": "3.6.3"
  }
 },
 "nbformat": 4,
 "nbformat_minor": 2
}
